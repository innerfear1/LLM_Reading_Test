{
 "cells": [
  {
   "cell_type": "markdown",
   "metadata": {},
   "source": [
    "### Basic MOE \n",
    "![basci-moe](./pics/Basic_MOE.png)\n",
    "### import backages\n"
   ]
  },
  {
   "cell_type": "code",
   "execution_count": 1,
   "metadata": {},
   "outputs": [],
   "source": [
    "import torch\n",
    "import torch.nn as nn\n",
    "import torch.nn.functional as F"
   ]
  },
  {
   "cell_type": "code",
   "execution_count": 2,
   "metadata": {},
   "outputs": [],
   "source": [
    "class Basic_Expert(nn.Module):\n",
    "    def __init__(self, feature_in, feature_out):\n",
    "        super().__init__()\n",
    "\n",
    "        self.fc = nn.Linear(feature_in, feature_out)\n",
    "\n",
    "    def forward(self, x):\n",
    "        return self.fc(x)"
   ]
  },
  {
   "cell_type": "code",
   "execution_count": 5,
   "metadata": {},
   "outputs": [],
   "source": [
    "class Basic_MOE(nn.Module):\n",
    "    def __init__(self, feature_in, feature_out, num_experts):\n",
    "        super().__init__()\n",
    "        \n",
    "        self.experts = nn.ModuleList(\n",
    "            Basic_Expert(\n",
    "                feature_in, feature_out\n",
    "            )for _ in range(num_experts)\n",
    "        )\n",
    "        self.gate = nn.Linear(feature_in, num_experts)\n",
    "\n",
    "    def forward(self, x):\n",
    "        # x shape is [batch, feature_in]\n",
    "        # faeature_in mean hidden_dim\n",
    "\n",
    "        expert_weights = self.gate(x)\n",
    "        expert_out_list = [\n",
    "            expert(x).unsqueeze(1) for expert in self.experts\n",
    "        ]\n",
    "        \n",
    "        expert_out = torch.cat(\n",
    "            expert_out_list,\n",
    "            dim = 1\n",
    "        )\n",
    "\n",
    "        # expert_weight softmax\n",
    "        expert_weights = F.softmax(expert_weights, dim = 1)\n",
    "        # expert_weights shape is [batch, num_experts]\n",
    "\n",
    "        # expert_out shape is [batch, num_experts, feature_out]\n",
    "        expert_weights = expert_weights.unsqueeze(1)\n",
    "        # expert_weights shape is [batch, 1, num_experts]\n",
    "        output = expert_weights @ expert_out\n",
    "\n",
    "        return output.squeeze(1)\n",
    "\n"
   ]
  },
  {
   "cell_type": "code",
   "execution_count": 6,
   "metadata": {},
   "outputs": [
    {
     "name": "stdout",
     "output_type": "stream",
     "text": [
      "torch.Size([4, 128])\n"
     ]
    }
   ],
   "source": [
    "def test_basic_moe():\n",
    "    x = torch.rand(4, 512)\n",
    "    basic_moe = Basic_MOE(512, 128, 4)\n",
    "    output = basic_moe(x)\n",
    "    print(output.shape)\n",
    "\n",
    "test_basic_moe()"
   ]
  }
 ],
 "metadata": {
  "kernelspec": {
   "display_name": "torch",
   "language": "python",
   "name": "python3"
  },
  "language_info": {
   "codemirror_mode": {
    "name": "ipython",
    "version": 3
   },
   "file_extension": ".py",
   "mimetype": "text/x-python",
   "name": "python",
   "nbconvert_exporter": "python",
   "pygments_lexer": "ipython3",
   "version": "3.8.16"
  }
 },
 "nbformat": 4,
 "nbformat_minor": 2
}
