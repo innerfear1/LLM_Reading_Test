{
 "cells": [
  {
   "cell_type": "markdown",
   "metadata": {},
   "source": [
    "### Basic MOE \n",
    "![basci-moe](./pics/Basic_MOE.png)\n",
    "### import backages\n"
   ]
  },
  {
   "cell_type": "code",
   "execution_count": null,
   "metadata": {},
   "outputs": [],
   "source": [
    "import torch\n",
    "import torch.nn as nn\n",
    "import torch.nn.functional as F"
   ]
  },
  {
   "cell_type": "code",
   "execution_count": null,
   "metadata": {},
   "outputs": [],
   "source": [
    "class Basic_Expert(nn.Module):\n",
    "    def __init__(self, feature_in, feature_out):\n",
    "        super().__init__()\n",
    "\n",
    "        self.fc = nn.Linear(feature_in, feature_out)\n",
    "\n",
    "    def forward(self, x):\n",
    "        return self.fc(x)"
   ]
  },
  {
   "cell_type": "code",
   "execution_count": null,
   "metadata": {},
   "outputs": [],
   "source": [
    "class Basic_MOE(nn.Module):\n",
    "    def __init__(self, feature_in, feature_out, num_experts):\n",
    "        super().__init__()\n",
    "        self.gate = feature_in\n",
    "        self.experts = nn.ModuleList(\n",
    "            Basic_Expert(\n",
    "                feature_in, feature_out\n",
    "            )for _ in range(num_experts)\n",
    "        )\n",
    "\n",
    "    def forward(self, x):\n",
    "        # x shape is [batch, feature_in]\n",
    "        # faeature_in mean hidden_dim\n",
    "\n",
    "        expert_weights = self.gate(x)\n",
    "        expert_out_list = [\n",
    "            expert(x) for expert in self.experts\n",
    "        ]\n",
    "        expert_outputs = [\n",
    "            expert_out.unsqueeze(1)\n",
    "            for expert_out in expert_out_list\n",
    "        ]\n",
    "        \n",
    "        expert_out = torch.concat(\n",
    "            expert_outputs,\n",
    "            dim = 1\n",
    "        )\n",
    "\n",
    "        # expert_weight softmax\n",
    "        expert_weights = F.softmax(expert_weights, dim = 1)\n",
    "\n",
    "        # expert_out shape is [batch, num_experts, feature_out]\n",
    "        expert_weights = expert_weights.unsqueeze(1)\n",
    "        output = expert_weights @ expert_out\n",
    "\n",
    "        return output.squeeze(1)\n",
    "\n"
   ]
  }
 ],
 "metadata": {
  "kernelspec": {
   "display_name": "torch",
   "language": "python",
   "name": "python3"
  },
  "language_info": {
   "name": "python",
   "version": "3.8.16"
  }
 },
 "nbformat": 4,
 "nbformat_minor": 2
}
